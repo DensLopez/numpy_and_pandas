{
 "cells": [
  {
   "cell_type": "markdown",
   "metadata": {},
   "source": [
    "## Método copy()"
   ]
  },
  {
   "cell_type": "markdown",
   "metadata": {},
   "source": [
    "Cuando estamos trabajando con arreglos, puede que existan métodos que mofiquen al arreglo directamente y no sea lo que estamos buscando.\n",
    "\n",
    "Para esta problematica tenemos el método ***copy*** que nos ayuda a copiar datos de un array a otro.\n"
   ]
  },
  {
   "cell_type": "code",
   "execution_count": 1,
   "metadata": {},
   "outputs": [],
   "source": [
    "import numpy as np"
   ]
  },
  {
   "cell_type": "code",
   "execution_count": 3,
   "metadata": {},
   "outputs": [
    {
     "name": "stdout",
     "output_type": "stream",
     "text": [
      "Array = [ 0  1  2  3  4  5  6  7  8  9 10]\n",
      "\n",
      "Slicing Array = [0 1 2 3 4 5]\n",
      "\n"
     ]
    }
   ],
   "source": [
    "#Array \n",
    "arr1 = np.arange(0,11)\n",
    "print(f'Array = {arr1}\\n')\n",
    "\n",
    "#Aplicando Slicing\n",
    "sli_arr1 = arr1[0:6]\n",
    "print(f'Slicing Array = {sli_arr1}\\n')"
   ]
  },
  {
   "cell_type": "markdown",
   "metadata": {},
   "source": [
    "*¿Pero que pasa cuando quiero hacer algunos pequeños* \n",
    "*cambios en el array?*"
   ]
  },
  {
   "cell_type": "code",
   "execution_count": 5,
   "metadata": {},
   "outputs": [
    {
     "name": "stdout",
     "output_type": "stream",
     "text": [
      "Slicing Array = [0 0 0 0 0 0]\n"
     ]
    }
   ],
   "source": [
    "#Quiero cambiar todos los valores a cero\n",
    "sli_arr1[:]=0\n",
    "print(f'Slicing Array = {sli_arr1}')"
   ]
  },
  {
   "cell_type": "markdown",
   "metadata": {},
   "source": [
    "Regresemos al **arr1** para trabajar, desplequemos \n",
    "su valor."
   ]
  },
  {
   "cell_type": "code",
   "execution_count": 6,
   "metadata": {},
   "outputs": [
    {
     "name": "stdout",
     "output_type": "stream",
     "text": [
      "Array 1 = [ 0  0  0  0  0  0  6  7  8  9 10]\n",
      "\n"
     ]
    }
   ],
   "source": [
    "#Desplegando valor de arr1\n",
    "print(f'Array 1 = {arr1}\\n')"
   ]
  },
  {
   "cell_type": "markdown",
   "metadata": {},
   "source": [
    "### ¿Que ha pasado?\n",
    "\n",
    "Se han modificado los valores de Array 1, aunque le\n",
    "aplicamos los cambios a otro.\n",
    "\n",
    ">*Lo que ha pasado es que **sli_arr1** está referenciando a **arr1**, entonces modifica también\n",
    "al array*\n",
    "\n",
    "La solución es crear una copia del array que queremos\n"
   ]
  },
  {
   "cell_type": "code",
   "execution_count": 10,
   "metadata": {},
   "outputs": [
    {
     "name": "stdout",
     "output_type": "stream",
     "text": [
      "Array 1 copy = [ 0  0  0  0  0  0  6  7  8  9 10]\n",
      "Array 1 = [ 0  0  0  0  0  0  6  7  8  9 10]\n",
      "Array 1 copy modicado = \n",
      "[100 100 100 100 100 100 100 100 100 100 100]\n",
      "Array 1 despues = [ 0  0  0  0  0  0  6  7  8  9 10]\n"
     ]
    }
   ],
   "source": [
    "#Copiando un arreglo\n",
    "arr1_copy = arr1.copy()\n",
    "print(f'Array 1 copy = {arr1_copy}')\n",
    "\n",
    "#modificando la copia\n",
    "arr1_copy[:] = 100\n",
    "print(f'Array 1 = {arr1}')\n",
    "print(f'Array 1 copy modicado = \\n{arr1_copy}')\n",
    "\n",
    "#Array 1 despues de la modificación de Copy\n",
    "print(f'Array 1 despues = {arr1}')"
   ]
  },
  {
   "cell_type": "markdown",
   "metadata": {},
   "source": [
    "## Entonces los 2 arreglos son independientes\n",
    "\n",
    "*Así podemos trabajar sin problemas*"
   ]
  },
  {
   "cell_type": "markdown",
   "metadata": {},
   "source": [
    "# Siempre has copias de array"
   ]
  }
 ],
 "metadata": {
  "kernelspec": {
   "display_name": "base",
   "language": "python",
   "name": "python3"
  },
  "language_info": {
   "codemirror_mode": {
    "name": "ipython",
    "version": 3
   },
   "file_extension": ".py",
   "mimetype": "text/x-python",
   "name": "python",
   "nbconvert_exporter": "python",
   "pygments_lexer": "ipython3",
   "version": "3.10.14"
  }
 },
 "nbformat": 4,
 "nbformat_minor": 2
}

{
 "cells": [
  {
   "cell_type": "markdown",
   "metadata": {},
   "source": [
    "# Condiciones en Numpy"
   ]
  },
  {
   "cell_type": "code",
   "execution_count": 1,
   "metadata": {},
   "outputs": [],
   "source": [
    "import numpy as np"
   ]
  },
  {
   "cell_type": "code",
   "execution_count": 3,
   "metadata": {},
   "outputs": [
    {
     "name": "stdout",
     "output_type": "stream",
     "text": [
      "Array = [ 1  2  3  4  5  6  7  8  9 10]\n"
     ]
    }
   ],
   "source": [
    "#Creando array\n",
    "arr1 = np.linspace(1,10,10, dtype='int8')\n",
    "print(f'Array = {arr1}')"
   ]
  },
  {
   "cell_type": "code",
   "execution_count": 5,
   "metadata": {},
   "outputs": [
    {
     "name": "stdout",
     "output_type": "stream",
     "text": [
      "Array 1 > 5\n",
      "Array = \n",
      "[ 1  2  3  4  5  6  7  8  9 10]\n",
      "Condition = \n",
      "[False False False False False  True  True  True  True  True]\n"
     ]
    }
   ],
   "source": [
    "#Aplicando condicionales\n",
    "print('Array 1 > 5')\n",
    "print(f'Array = \\n{arr1}')\n",
    "print(f'Condition = \\n{arr1>5}')\n",
    "#Me arroja una lista booleana\n"
   ]
  },
  {
   "cell_type": "code",
   "execution_count": 9,
   "metadata": {},
   "outputs": [
    {
     "name": "stdout",
     "output_type": "stream",
     "text": [
      "Condición Array 1 > 5\n",
      "\n",
      "Array = [ 1  2  3  4  5  6  7  8  9 10]\n",
      "Array filtrado = [ 6  7  8  9 10]\n",
      "Condición Array 1 > 5\n",
      "\n",
      "Array filtrado manualmente\n",
      "arr1[arr1>5] = [ 6  7  8  9 10]\n"
     ]
    }
   ],
   "source": [
    "#Guardando la condicional\n",
    "condicion = arr1>5\n",
    "\n",
    "#dandole utilidad a la condición filtrando \n",
    "#los que cumplan con la condición\n",
    "arr1_filtrado = arr1[condicion]\n",
    "print('Condición Array 1 > 5\\n')\n",
    "print(f'Array = {arr1}')\n",
    "print(f'Array filtrado = {arr1_filtrado}')\n",
    "\n",
    "#metodo manual\n",
    "print('Condición Array 1 > 5\\n')\n",
    "print(f'Array filtrado manualmente')\n",
    "print(f'arr1[arr1>5] = {arr1[arr1>5]}')"
   ]
  },
  {
   "cell_type": "markdown",
   "metadata": {},
   "source": [
    "### **Podemos manejar condiciones más complejas**"
   ]
  },
  {
   "cell_type": "markdown",
   "metadata": {},
   "source": [
    "Aquí le estoy diciendo que quiero los valores mayores a **5** y menores a **9**"
   ]
  },
  {
   "cell_type": "code",
   "execution_count": 13,
   "metadata": {},
   "outputs": [
    {
     "data": {
      "text/plain": [
       "array([], dtype=int8)"
      ]
     },
     "execution_count": 13,
     "metadata": {},
     "output_type": "execute_result"
    }
   ],
   "source": [
    "#condiciones complejas\n",
    "\n",
    "arr1[(arr1>5)&(arr1<9)]"
   ]
  },
  {
   "cell_type": "markdown",
   "metadata": {},
   "source": [
    "Aquí le estoy diciendo que quiero que los valores mayores a **5** sean modificados a 99"
   ]
  },
  {
   "cell_type": "code",
   "execution_count": 14,
   "metadata": {},
   "outputs": [
    {
     "data": {
      "text/plain": [
       "array([ 1,  2,  3,  4,  5, 99, 99, 99, 99, 99], dtype=int8)"
      ]
     },
     "execution_count": 14,
     "metadata": {},
     "output_type": "execute_result"
    }
   ],
   "source": [
    "#condiciones complejas\n",
    "arr1[arr1>5] = 99\n",
    "arr1"
   ]
  },
  {
   "cell_type": "markdown",
   "metadata": {},
   "source": [
    "Aquí le pedimos que me muestre solo ***los valores que son igual*** a **99**"
   ]
  },
  {
   "cell_type": "code",
   "execution_count": 15,
   "metadata": {},
   "outputs": [
    {
     "data": {
      "text/plain": [
       "array([99, 99, 99, 99, 99], dtype=int8)"
      ]
     },
     "execution_count": 15,
     "metadata": {},
     "output_type": "execute_result"
    }
   ],
   "source": [
    "arr1[arr1==99]"
   ]
  },
  {
   "cell_type": "markdown",
   "metadata": {},
   "source": [
    "### Reto:\n",
    "\n",
    "Crea tu propio array y aplicale unas condiciones\n"
   ]
  },
  {
   "cell_type": "code",
   "execution_count": 23,
   "metadata": {},
   "outputs": [
    {
     "name": "stdout",
     "output_type": "stream",
     "text": [
      "Array = \n",
      "[[19 12 14 13  8 13]\n",
      " [16 16 18  7 14 10]\n",
      " [14 14 10 13 14  4]\n",
      " [ 1  6 11 10 10  8]\n",
      " [16  2 17  5 13 12]]\n",
      "\n",
      "Condición 1 = \n",
      "[19 12 14 13  8 13 16 16 18 14 10 14 14 10 13 14  4  6 11 10 10  8 16  2\n",
      " 17 13 12]\n",
      "\n",
      "Condición 2 = \n",
      "[12 14  8 16 16 18 14 10 14 14 10 14  4  6 10 10  8 16  2 12]\n",
      "\n",
      "Array original = \n",
      "[[19 12 14 13  8 13]\n",
      " [16 16 18  7 14 10]\n",
      " [14 14 10 13 14  4]\n",
      " [ 1  6 11 10 10  8]\n",
      " [16  2 17  5 13 12]]\n",
      "\n",
      "Array condicionado = \n",
      "[[38 12 14 26  8 26]\n",
      " [16 16 18 14 14 10]\n",
      " [14 14 10 26 14  4]\n",
      " [ 2  6 22 10 10  8]\n",
      " [16  2 34 10 26 12]]\n",
      "\n"
     ]
    }
   ],
   "source": [
    "# Array\n",
    "arr_dens=np.random.randint(1,20,size=(5,6))\n",
    "print(f'Array = \\n{arr_dens}\\n')\n",
    "\n",
    "#Condicion 1 números pares o mayores a 10\n",
    "cond1=arr_dens[(arr_dens%2==0) | (arr_dens>10)]\n",
    "print(f'Condición 1 = \\n{cond1}\\n')\n",
    "\n",
    "#Condicion 2 números pares\n",
    "cond2=arr_dens[arr_dens%2==0]\n",
    "print(f'Condición 2 = \\n{cond2}\\n')\n",
    "\n",
    "#Copia del arreglo\n",
    "cp_arrden = arr_dens.copy()\n",
    "\n",
    "#Cambiando los impares por su valor multiplicado por 2\n",
    "cp_arrden[cp_arrden%2!=0]*=2\n",
    "print(f'Array original = \\n{arr_dens}\\n')\n",
    "print(f'Array condicionado = \\n{cp_arrden}\\n')\n"
   ]
  }
 ],
 "metadata": {
  "kernelspec": {
   "display_name": "base",
   "language": "python",
   "name": "python3"
  },
  "language_info": {
   "codemirror_mode": {
    "name": "ipython",
    "version": 3
   },
   "file_extension": ".py",
   "mimetype": "text/x-python",
   "name": "python",
   "nbconvert_exporter": "python",
   "pygments_lexer": "ipython3",
   "version": "3.10.14"
  }
 },
 "nbformat": 4,
 "nbformat_minor": 2
}

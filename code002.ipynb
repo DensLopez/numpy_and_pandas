{
 "cells": [
  {
   "cell_type": "code",
   "execution_count": 1,
   "metadata": {},
   "outputs": [],
   "source": [
    "#Segunda practica con Numpy \n",
    "#Importando Numpy\n",
    "import numpy as np\n"
   ]
  },
  {
   "cell_type": "code",
   "execution_count": 2,
   "metadata": {},
   "outputs": [
    {
     "name": "stdout",
     "output_type": "stream",
     "text": [
      "Arreglo = [1 2 3 4]\n",
      "Tipo de datos = int64\n"
     ]
    }
   ],
   "source": [
    "#Trabajando con arrays y sus distintas propiedades\n",
    "arreglo_1 = np.array([1,2,3,4])\n",
    "print(f'Arreglo = {arreglo_1}\\nTipo de datos = {arreglo_1.dtype}')"
   ]
  },
  {
   "cell_type": "code",
   "execution_count": 3,
   "metadata": {},
   "outputs": [
    {
     "name": "stdout",
     "output_type": "stream",
     "text": [
      "Arreglo = [1. 2. 3. 4.]\n",
      "Tipo de datos = float64\n"
     ]
    }
   ],
   "source": [
    "#Cambiando el tipo de dato del arreglo\n",
    "arreglo_1 = np.array([1,2,3,4], dtype='float64')\n",
    "#Dentro del mismo array definimos el tipo de dato\n",
    "print(f'Arreglo = {arreglo_1}\\nTipo de datos = {arreglo_1.dtype}')\n",
    "#Como se puede ver tiene punto decimal"
   ]
  },
  {
   "cell_type": "code",
   "execution_count": 11,
   "metadata": {},
   "outputs": [
    {
     "name": "stdout",
     "output_type": "stream",
     "text": [
      "Arreglo = [0. 1. 2. 3. 4.]\n",
      "Tipo de datos = float64\n"
     ]
    }
   ],
   "source": [
    "#Cambiando el tipo de dato ya definido\n",
    "#Definiendo como entero\n",
    "arreglo_1 = np.array([0,1,2,3,4])\n",
    "arreglo_1 = arreglo_1.astype(np.float64)\n",
    "print(f'Arreglo = {arreglo_1}\\nTipo de datos = {arreglo_1.dtype}')\n"
   ]
  },
  {
   "cell_type": "code",
   "execution_count": 12,
   "metadata": {},
   "outputs": [
    {
     "name": "stdout",
     "output_type": "stream",
     "text": [
      "Arreglo = [0. 1. 2. 3. 4.]\n",
      "Tipo de datos = float64\n",
      "Arreglo = [False  True  True  True  True]\n",
      "Tipo de datos = bool\n"
     ]
    }
   ],
   "source": [
    "#Recordando el tipo de dato anterior\n",
    "print(f'Arreglo = {arreglo_1}\\nTipo de datos = {arreglo_1.dtype}')\n",
    "#Cambiando a bool el arreglo1\n",
    "arreglo_1 = arreglo_1.astype(np.bool_)\n",
    "print(f'Arreglo = {arreglo_1}\\nTipo de datos = {arreglo_1.dtype}')"
   ]
  },
  {
   "cell_type": "code",
   "execution_count": 14,
   "metadata": {},
   "outputs": [
    {
     "name": "stdout",
     "output_type": "stream",
     "text": [
      "Arreglo = [0 1 2 3 4]\n",
      "Tipo de datos = int64\n",
      "Arreglo = [b'0' b'1' b'2' b'3' b'4']\n",
      "Tipo de datos = |S21\n"
     ]
    }
   ],
   "source": [
    "#Re-declarando el array\n",
    "arreglo_1 = np.array([0,1,2,3,4])\n",
    "print(f'Arreglo = {arreglo_1}\\nTipo de datos = {arreglo_1.dtype}')\n",
    "#Cambiando a string el arreglo1\n",
    "arreglo_1 = arreglo_1.astype(np.string_)\n",
    "print(f'Arreglo = {arreglo_1}\\nTipo de datos = {arreglo_1.dtype}')"
   ]
  },
  {
   "cell_type": "code",
   "execution_count": 17,
   "metadata": {},
   "outputs": [
    {
     "name": "stdout",
     "output_type": "stream",
     "text": [
      "Arreglo = ['0' '1' '2' '3' '4']\n",
      "Tipo de datos = <U1\n",
      "Arreglo = [0 1 2 3 4]\n",
      "Tipo de datos = int8\n"
     ]
    }
   ],
   "source": [
    "#Haciendo el proceso inverso\n",
    "arreglo_1 = np.array(['0','1','2','3','4'])\n",
    "print(f'Arreglo = {arreglo_1}\\nTipo de datos = {arreglo_1.dtype}')\n",
    "arreglo_1 = arreglo_1.astype(np.int8)\n",
    "print(f'Arreglo = {arreglo_1}\\nTipo de datos = {arreglo_1.dtype}')"
   ]
  },
  {
   "cell_type": "code",
   "execution_count": 18,
   "metadata": {},
   "outputs": [
    {
     "name": "stdout",
     "output_type": "stream",
     "text": [
      "Arreglo = ['0' 'hola' '1' '2' '3' '4']\n",
      "Tipo de datos = <U4\n",
      "\n"
     ]
    },
    {
     "ename": "ValueError",
     "evalue": "invalid literal for int() with base 10: 'hola'",
     "output_type": "error",
     "traceback": [
      "\u001b[0;31m---------------------------------------------------------------------------\u001b[0m",
      "\u001b[0;31mValueError\u001b[0m                                Traceback (most recent call last)",
      "Cell \u001b[0;32mIn[18], line 5\u001b[0m\n\u001b[1;32m      3\u001b[0m arreglo_1 \u001b[38;5;241m=\u001b[39m np\u001b[38;5;241m.\u001b[39marray([\u001b[38;5;124m'\u001b[39m\u001b[38;5;124m0\u001b[39m\u001b[38;5;124m'\u001b[39m,\u001b[38;5;124m'\u001b[39m\u001b[38;5;124mhola\u001b[39m\u001b[38;5;124m'\u001b[39m,\u001b[38;5;124m'\u001b[39m\u001b[38;5;124m1\u001b[39m\u001b[38;5;124m'\u001b[39m,\u001b[38;5;124m'\u001b[39m\u001b[38;5;124m2\u001b[39m\u001b[38;5;124m'\u001b[39m,\u001b[38;5;124m'\u001b[39m\u001b[38;5;124m3\u001b[39m\u001b[38;5;124m'\u001b[39m,\u001b[38;5;124m'\u001b[39m\u001b[38;5;124m4\u001b[39m\u001b[38;5;124m'\u001b[39m])\n\u001b[1;32m      4\u001b[0m \u001b[38;5;28mprint\u001b[39m(\u001b[38;5;124mf\u001b[39m\u001b[38;5;124m'\u001b[39m\u001b[38;5;124mArreglo = \u001b[39m\u001b[38;5;132;01m{\u001b[39;00marreglo_1\u001b[38;5;132;01m}\u001b[39;00m\u001b[38;5;130;01m\\n\u001b[39;00m\u001b[38;5;124mTipo de datos = \u001b[39m\u001b[38;5;132;01m{\u001b[39;00marreglo_1\u001b[38;5;241m.\u001b[39mdtype\u001b[38;5;132;01m}\u001b[39;00m\u001b[38;5;130;01m\\n\u001b[39;00m\u001b[38;5;124m'\u001b[39m)\n\u001b[0;32m----> 5\u001b[0m arreglo_1 \u001b[38;5;241m=\u001b[39m \u001b[43marreglo_1\u001b[49m\u001b[38;5;241;43m.\u001b[39;49m\u001b[43mastype\u001b[49m\u001b[43m(\u001b[49m\u001b[43mnp\u001b[49m\u001b[38;5;241;43m.\u001b[39;49m\u001b[43mint8\u001b[49m\u001b[43m)\u001b[49m\n\u001b[1;32m      6\u001b[0m \u001b[38;5;28mprint\u001b[39m(\u001b[38;5;124mf\u001b[39m\u001b[38;5;124m'\u001b[39m\u001b[38;5;124mArreglo = \u001b[39m\u001b[38;5;132;01m{\u001b[39;00marreglo_1\u001b[38;5;132;01m}\u001b[39;00m\u001b[38;5;130;01m\\n\u001b[39;00m\u001b[38;5;124mTipo de datos = \u001b[39m\u001b[38;5;132;01m{\u001b[39;00marreglo_1\u001b[38;5;241m.\u001b[39mdtype\u001b[38;5;132;01m}\u001b[39;00m\u001b[38;5;130;01m\\n\u001b[39;00m\u001b[38;5;124m'\u001b[39m)\n",
      "\u001b[0;31mValueError\u001b[0m: invalid literal for int() with base 10: 'hola'"
     ]
    }
   ],
   "source": [
    "#Haciendo que falle la conversion debido a que no existe una correspondencia entre 'hola' y un número\n",
    "\n",
    "arreglo_1 = np.array(['0','hola','1','2','3','4'])\n",
    "print(f'Arreglo = {arreglo_1}\\nTipo de datos = {arreglo_1.dtype}\\n')\n",
    "arreglo_1 = arreglo_1.astype(np.int8)\n",
    "print(f'Arreglo = {arreglo_1}\\nTipo de datos = {arreglo_1.dtype}\\n')"
   ]
  },
  {
   "cell_type": "markdown",
   "metadata": {},
   "source": [
    "**Es importante resaltar que Numpy solo puede manejar un tipo de datos dentro de los arreglos, ya que es parte de la optimización de datos**"
   ]
  }
 ],
 "metadata": {
  "kernelspec": {
   "display_name": "base",
   "language": "python",
   "name": "python3"
  },
  "language_info": {
   "codemirror_mode": {
    "name": "ipython",
    "version": 3
   },
   "file_extension": ".py",
   "mimetype": "text/x-python",
   "name": "python",
   "nbconvert_exporter": "python",
   "pygments_lexer": "ipython3",
   "version": "3.10.14"
  }
 },
 "nbformat": 4,
 "nbformat_minor": 2
}

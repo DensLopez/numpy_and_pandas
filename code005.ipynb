{
 "cells": [
  {
   "cell_type": "markdown",
   "metadata": {},
   "source": [
    "# Shape & Reshape"
   ]
  },
  {
   "cell_type": "code",
   "execution_count": 1,
   "metadata": {},
   "outputs": [],
   "source": [
    "#Importando Numpy\n",
    "import numpy as np"
   ]
  },
  {
   "cell_type": "code",
   "execution_count": 4,
   "metadata": {},
   "outputs": [
    {
     "name": "stdout",
     "output_type": "stream",
     "text": [
      "Array 1:\n",
      "[[2 7]\n",
      " [7 5]\n",
      " [4 4]]\n",
      "Tamaño = (3, 2)\n",
      "Dimensión = 2\n"
     ]
    }
   ],
   "source": [
    "#Creando un array \n",
    "arr1 = np.random.randint(1,10,size=(3,2))\n",
    "print(f\"Array 1:\\n{arr1}\\nTamaño = {arr1.shape}\\nDimensión = {arr1.ndim}\")"
   ]
  },
  {
   "cell_type": "markdown",
   "metadata": {},
   "source": [
    "### *Aquí tenemos un array con:*\n",
    "\n",
    "* 3 Filas\n",
    "* 2 Columnas\n",
    "* Y en **2** dimensiones\n",
    "\n",
    ">Por lo tanto podemos decir que: ***shape(x,y,z)***\n",
    "\n",
    "Nos hace pensar que tenemos un arreglo de:\n",
    "* **x** Grupos principales\n",
    "* **y** Subgrupos \n",
    "* **z** Elementos dentro de los subgrupos"
   ]
  },
  {
   "cell_type": "code",
   "execution_count": 14,
   "metadata": {},
   "outputs": [
    {
     "name": "stdout",
     "output_type": "stream",
     "text": [
      "Array 1: [[2 7 7 5 4 4]]\n",
      "Tamaño = (1, 6)\n",
      "Dimensión = 2\n"
     ]
    },
    {
     "data": {
      "text/plain": [
       "array([[2, 7, 7],\n",
       "       [5, 4, 4]])"
      ]
     },
     "execution_count": 14,
     "metadata": {},
     "output_type": "execute_result"
    }
   ],
   "source": [
    "#Haciendo Reshape\n",
    "arr1 = arr1.reshape(1,6)\n",
    "print(f\"Array 1: {arr1}\\nTamaño = {arr1.shape}\\nDimensión = {arr1.ndim}\")\n",
    "\n",
    "#Otra forma de reshape\n",
    "np.reshape(arr1,(2,3))"
   ]
  },
  {
   "cell_type": "markdown",
   "metadata": {},
   "source": [
    "### Cambiando la forma del arreglo\n",
    "\n",
    "*numpy.reshape(x,y)*\n",
    "\n",
    "*numpy.reshape(array,(2,3))*\n",
    "\n",
    "El metodo reshape me ayuda a cambiar la forma de un arreglo\n",
    "\n",
    "> **NOTA: tiene que contener los mismos elementos**"
   ]
  },
  {
   "cell_type": "code",
   "execution_count": 17,
   "metadata": {},
   "outputs": [
    {
     "ename": "ValueError",
     "evalue": "cannot reshape array of size 6 into shape (3,3)",
     "output_type": "error",
     "traceback": [
      "\u001b[0;31m---------------------------------------------------------------------------\u001b[0m",
      "\u001b[0;31mValueError\u001b[0m                                Traceback (most recent call last)",
      "Cell \u001b[0;32mIn[17], line 2\u001b[0m\n\u001b[1;32m      1\u001b[0m \u001b[38;5;66;03m#Otra forma de reshape\u001b[39;00m\n\u001b[0;32m----> 2\u001b[0m \u001b[43mnp\u001b[49m\u001b[38;5;241;43m.\u001b[39;49m\u001b[43mreshape\u001b[49m\u001b[43m(\u001b[49m\u001b[43marr1\u001b[49m\u001b[43m,\u001b[49m\u001b[43m(\u001b[49m\u001b[38;5;241;43m3\u001b[39;49m\u001b[43m,\u001b[49m\u001b[38;5;241;43m3\u001b[39;49m\u001b[43m)\u001b[49m\u001b[43m)\u001b[49m\n",
      "File \u001b[0;32m~/miniforge3/lib/python3.10/site-packages/numpy/core/fromnumeric.py:285\u001b[0m, in \u001b[0;36mreshape\u001b[0;34m(a, newshape, order)\u001b[0m\n\u001b[1;32m    200\u001b[0m \u001b[38;5;129m@array_function_dispatch\u001b[39m(_reshape_dispatcher)\n\u001b[1;32m    201\u001b[0m \u001b[38;5;28;01mdef\u001b[39;00m \u001b[38;5;21mreshape\u001b[39m(a, newshape, order\u001b[38;5;241m=\u001b[39m\u001b[38;5;124m'\u001b[39m\u001b[38;5;124mC\u001b[39m\u001b[38;5;124m'\u001b[39m):\n\u001b[1;32m    202\u001b[0m \u001b[38;5;250m    \u001b[39m\u001b[38;5;124;03m\"\"\"\u001b[39;00m\n\u001b[1;32m    203\u001b[0m \u001b[38;5;124;03m    Gives a new shape to an array without changing its data.\u001b[39;00m\n\u001b[1;32m    204\u001b[0m \n\u001b[0;32m   (...)\u001b[0m\n\u001b[1;32m    283\u001b[0m \u001b[38;5;124;03m           [5, 6]])\u001b[39;00m\n\u001b[1;32m    284\u001b[0m \u001b[38;5;124;03m    \"\"\"\u001b[39;00m\n\u001b[0;32m--> 285\u001b[0m     \u001b[38;5;28;01mreturn\u001b[39;00m \u001b[43m_wrapfunc\u001b[49m\u001b[43m(\u001b[49m\u001b[43ma\u001b[49m\u001b[43m,\u001b[49m\u001b[43m \u001b[49m\u001b[38;5;124;43m'\u001b[39;49m\u001b[38;5;124;43mreshape\u001b[39;49m\u001b[38;5;124;43m'\u001b[39;49m\u001b[43m,\u001b[49m\u001b[43m \u001b[49m\u001b[43mnewshape\u001b[49m\u001b[43m,\u001b[49m\u001b[43m \u001b[49m\u001b[43morder\u001b[49m\u001b[38;5;241;43m=\u001b[39;49m\u001b[43morder\u001b[49m\u001b[43m)\u001b[49m\n",
      "File \u001b[0;32m~/miniforge3/lib/python3.10/site-packages/numpy/core/fromnumeric.py:59\u001b[0m, in \u001b[0;36m_wrapfunc\u001b[0;34m(obj, method, *args, **kwds)\u001b[0m\n\u001b[1;32m     56\u001b[0m     \u001b[38;5;28;01mreturn\u001b[39;00m _wrapit(obj, method, \u001b[38;5;241m*\u001b[39margs, \u001b[38;5;241m*\u001b[39m\u001b[38;5;241m*\u001b[39mkwds)\n\u001b[1;32m     58\u001b[0m \u001b[38;5;28;01mtry\u001b[39;00m:\n\u001b[0;32m---> 59\u001b[0m     \u001b[38;5;28;01mreturn\u001b[39;00m \u001b[43mbound\u001b[49m\u001b[43m(\u001b[49m\u001b[38;5;241;43m*\u001b[39;49m\u001b[43margs\u001b[49m\u001b[43m,\u001b[49m\u001b[43m \u001b[49m\u001b[38;5;241;43m*\u001b[39;49m\u001b[38;5;241;43m*\u001b[39;49m\u001b[43mkwds\u001b[49m\u001b[43m)\u001b[49m\n\u001b[1;32m     60\u001b[0m \u001b[38;5;28;01mexcept\u001b[39;00m \u001b[38;5;167;01mTypeError\u001b[39;00m:\n\u001b[1;32m     61\u001b[0m     \u001b[38;5;66;03m# A TypeError occurs if the object does have such a method in its\u001b[39;00m\n\u001b[1;32m     62\u001b[0m     \u001b[38;5;66;03m# class, but its signature is not identical to that of NumPy's. This\u001b[39;00m\n\u001b[0;32m   (...)\u001b[0m\n\u001b[1;32m     66\u001b[0m     \u001b[38;5;66;03m# Call _wrapit from within the except clause to ensure a potential\u001b[39;00m\n\u001b[1;32m     67\u001b[0m     \u001b[38;5;66;03m# exception has a traceback chain.\u001b[39;00m\n\u001b[1;32m     68\u001b[0m     \u001b[38;5;28;01mreturn\u001b[39;00m _wrapit(obj, method, \u001b[38;5;241m*\u001b[39margs, \u001b[38;5;241m*\u001b[39m\u001b[38;5;241m*\u001b[39mkwds)\n",
      "\u001b[0;31mValueError\u001b[0m: cannot reshape array of size 6 into shape (3,3)"
     ]
    }
   ],
   "source": [
    "#Otra forma de reshape\n",
    "np.reshape(arr1,(3,3))"
   ]
  },
  {
   "cell_type": "code",
   "execution_count": 33,
   "metadata": {},
   "outputs": [
    {
     "name": "stdout",
     "output_type": "stream",
     "text": [
      "Array = \n",
      "[[2 7]\n",
      " [7 5]\n",
      " [4 4]]\n",
      "Tamaño = (3, 2)\n",
      "\n",
      "Array = \n",
      "[[2 7 7]\n",
      " [5 4 4]]\n",
      "Tamaño = (2, 3)\n",
      "\n"
     ]
    }
   ],
   "source": [
    "#El error anterior nos muestra la NOTA\n",
    "\n",
    "#Explorando mas\n",
    "arr1 = arr1.reshape(3,2)\n",
    "print(f'Array = \\n{arr1}\\nTamaño = {arr1.shape}\\n')\n",
    "\n",
    "#Vamos a decirle que lo haga como el lenguaje C\n",
    "arr1 = np.reshape(arr1,(2,3),'C')\n",
    "print(f'Array = \\n{arr1}\\nTamaño = {arr1.shape}\\n')"
   ]
  },
  {
   "cell_type": "markdown",
   "metadata": {},
   "source": [
    ">C nos demuestra que lo hace por filas"
   ]
  },
  {
   "cell_type": "code",
   "execution_count": 35,
   "metadata": {},
   "outputs": [
    {
     "name": "stdout",
     "output_type": "stream",
     "text": [
      "Array = \n",
      "[[2 4]\n",
      " [5 7]\n",
      " [7 4]]\n",
      "Tamaño = (3, 2)\n",
      "\n",
      "Array = \n",
      "[[2 7 7]\n",
      " [5 4 4]]\n",
      "Tamaño = (2, 3)\n",
      "\n"
     ]
    }
   ],
   "source": [
    "#Reshape\n",
    "#Explorando mas\n",
    "arr1 = np.array([[2,4],[5,7],[7,4]])\n",
    "print(f'Array = \\n{arr1}\\nTamaño = {arr1.shape}\\n')\n",
    "\n",
    "#Vamos a decirle que lo haga como el lenguaje Fortran\n",
    "arr1 = np.reshape(arr1,(2,3),'F')\n",
    "print(f'Array = \\n{arr1}\\nTamaño = {arr1.shape}\\n')"
   ]
  },
  {
   "cell_type": "markdown",
   "metadata": {},
   "source": [
    ">Fortran nos demuestra que lo hace por columnas"
   ]
  },
  {
   "cell_type": "code",
   "execution_count": 38,
   "metadata": {},
   "outputs": [
    {
     "name": "stdout",
     "output_type": "stream",
     "text": [
      "Array = \n",
      "[[2 4]\n",
      " [5 7]\n",
      " [7 4]]\n",
      "Tamaño = (3, 2)\n",
      "\n"
     ]
    }
   ],
   "source": [
    "#Diciendole que se base en la optimización de mi S.OSError\n",
    "arr1 = np.reshape(arr1,(3,2),'A')\n",
    "print(f'Array = \\n{arr1}\\nTamaño = {arr1.shape}\\n')"
   ]
  },
  {
   "cell_type": "markdown",
   "metadata": {},
   "source": [
    ">A nos ayuda a encontrar la optimización de mi sistema"
   ]
  },
  {
   "cell_type": "markdown",
   "metadata": {},
   "source": [
    "### Lo mejor es tener conocimiento de como se hace\n",
    "\n",
    "*Así que lo mas conveniente es escoger uno*. La clase sugiere usarlo en **C**, ya que **Python** está basado en **C**"
   ]
  },
  {
   "cell_type": "markdown",
   "metadata": {},
   "source": [
    "### Reto:\n",
    "\n",
    "*Crea un tensor de cualquier dimension y cambia la forma*"
   ]
  },
  {
   "cell_type": "code",
   "execution_count": 43,
   "metadata": {},
   "outputs": [
    {
     "name": "stdout",
     "output_type": "stream",
     "text": [
      "Tensor = \n",
      "\n",
      "[[[[85 34 89]\n",
      "   [10 74 72]\n",
      "   [ 4 82 66]\n",
      "   [68  4 88]\n",
      "   [55 53  5]\n",
      "   [ 4 39 29]]\n",
      "\n",
      "  [[26  5 87]\n",
      "   [56 48 89]\n",
      "   [89 99 63]\n",
      "   [64 88 12]\n",
      "   [38 12 48]\n",
      "   [18 35 90]]\n",
      "\n",
      "  [[26 88 32]\n",
      "   [85 91 57]\n",
      "   [71 89 59]\n",
      "   [55 65 52]\n",
      "   [85 11 48]\n",
      "   [43 51 24]]\n",
      "\n",
      "  [[22 79 62]\n",
      "   [ 2 55 58]\n",
      "   [22 98  4]\n",
      "   [62 86 93]\n",
      "   [37 61 65]\n",
      "   [50 87 39]]\n",
      "\n",
      "  [[17 56 42]\n",
      "   [86 27 81]\n",
      "   [28 48 36]\n",
      "   [95 13 86]\n",
      "   [71 70 66]\n",
      "   [59 33 54]]]\n",
      "\n",
      "\n",
      " [[[40 93 58]\n",
      "   [89 65 49]\n",
      "   [32 25 59]\n",
      "   [80 84 34]\n",
      "   [55  2 86]\n",
      "   [49 90 64]]\n",
      "\n",
      "  [[62 65 60]\n",
      "   [58 93 96]\n",
      "   [78 35 97]\n",
      "   [49 34 13]\n",
      "   [66 54 35]\n",
      "   [38 12 20]]\n",
      "\n",
      "  [[55 46 69]\n",
      "   [58 10 21]\n",
      "   [ 4 76 71]\n",
      "   [76 38 47]\n",
      "   [62 80 65]\n",
      "   [43 50 77]]\n",
      "\n",
      "  [[38 88 28]\n",
      "   [23 72 29]\n",
      "   [78 93 54]\n",
      "   [18 18 86]\n",
      "   [63 14  7]\n",
      "   [41 79 14]]\n",
      "\n",
      "  [[83 28 32]\n",
      "   [79 18 38]\n",
      "   [ 3 18 67]\n",
      "   [43 70 83]\n",
      "   [63 83 64]\n",
      "   [36 67 40]]]]\n",
      "Tamaño = (2, 5, 6, 3)\n",
      "Dimensión = 4\n"
     ]
    }
   ],
   "source": [
    "#Creando un tensor de 2*5*6*3\n",
    "tensor = np.random.randint(2,100,size=(2,5,6,3))\n",
    "print(f'Tensor = \\n\\n{tensor}\\nTamaño = {tensor.shape}\\nDimensión = {tensor.ndim}')"
   ]
  },
  {
   "cell_type": "code",
   "execution_count": 45,
   "metadata": {},
   "outputs": [
    {
     "name": "stdout",
     "output_type": "stream",
     "text": [
      "Tensor = \n",
      "\n",
      "[[[85 34 89]\n",
      "  [10 74 72]\n",
      "  [ 4 82 66]\n",
      "  [68  4 88]\n",
      "  [55 53  5]\n",
      "  [ 4 39 29]\n",
      "  [26  5 87]\n",
      "  [56 48 89]\n",
      "  [89 99 63]\n",
      "  [64 88 12]]\n",
      "\n",
      " [[38 12 48]\n",
      "  [18 35 90]\n",
      "  [26 88 32]\n",
      "  [85 91 57]\n",
      "  [71 89 59]\n",
      "  [55 65 52]\n",
      "  [85 11 48]\n",
      "  [43 51 24]\n",
      "  [22 79 62]\n",
      "  [ 2 55 58]]\n",
      "\n",
      " [[22 98  4]\n",
      "  [62 86 93]\n",
      "  [37 61 65]\n",
      "  [50 87 39]\n",
      "  [17 56 42]\n",
      "  [86 27 81]\n",
      "  [28 48 36]\n",
      "  [95 13 86]\n",
      "  [71 70 66]\n",
      "  [59 33 54]]\n",
      "\n",
      " [[40 93 58]\n",
      "  [89 65 49]\n",
      "  [32 25 59]\n",
      "  [80 84 34]\n",
      "  [55  2 86]\n",
      "  [49 90 64]\n",
      "  [62 65 60]\n",
      "  [58 93 96]\n",
      "  [78 35 97]\n",
      "  [49 34 13]]\n",
      "\n",
      " [[66 54 35]\n",
      "  [38 12 20]\n",
      "  [55 46 69]\n",
      "  [58 10 21]\n",
      "  [ 4 76 71]\n",
      "  [76 38 47]\n",
      "  [62 80 65]\n",
      "  [43 50 77]\n",
      "  [38 88 28]\n",
      "  [23 72 29]]\n",
      "\n",
      " [[78 93 54]\n",
      "  [18 18 86]\n",
      "  [63 14  7]\n",
      "  [41 79 14]\n",
      "  [83 28 32]\n",
      "  [79 18 38]\n",
      "  [ 3 18 67]\n",
      "  [43 70 83]\n",
      "  [63 83 64]\n",
      "  [36 67 40]]]\n",
      "Tamaño = (6, 10, 3)\n",
      "Dimensión = 3\n"
     ]
    }
   ],
   "source": [
    "#Cambiando la forma de 2 * 5 * 6 * 3 a 6 * 10 * 3 en C\n",
    "tensor = np.reshape(tensor,(6,10,3),'C')\n",
    "print(f'Tensor = \\n\\n{tensor}\\nTamaño = {tensor.shape}\\nDimensión = {tensor.ndim}')"
   ]
  },
  {
   "cell_type": "code",
   "execution_count": null,
   "metadata": {},
   "outputs": [],
   "source": []
  }
 ],
 "metadata": {
  "kernelspec": {
   "display_name": "base",
   "language": "python",
   "name": "python3"
  },
  "language_info": {
   "codemirror_mode": {
    "name": "ipython",
    "version": 3
   },
   "file_extension": ".py",
   "mimetype": "text/x-python",
   "name": "python",
   "nbconvert_exporter": "python",
   "pygments_lexer": "ipython3",
   "version": "3.10.14"
  }
 },
 "nbformat": 4,
 "nbformat_minor": 2
}

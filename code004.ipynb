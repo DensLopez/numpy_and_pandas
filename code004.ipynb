{
 "cells": [
  {
   "cell_type": "code",
   "execution_count": 1,
   "metadata": {},
   "outputs": [],
   "source": [
    "#Creando arrays\n",
    "import numpy as np"
   ]
  },
  {
   "cell_type": "markdown",
   "metadata": {},
   "source": [
    "## Recordando que:\n",
    "\n",
    "> Para no usar la sintaxis completa de numpy.method()\n",
    "> Abreviamos **numpy** como **np**. Entonces usamos:\n",
    ">> *np.method()*"
   ]
  },
  {
   "cell_type": "code",
   "execution_count": 9,
   "metadata": {},
   "outputs": [
    {
     "name": "stdout",
     "output_type": "stream",
     "text": [
      "Lista = [0, 1, 2, 3, 4, 5, 6, 7, 8, 9]\n",
      "Tipo = <class 'list'>\n",
      "\n",
      "Lista = list[range(0, 10)]\n",
      "tipo = <class 'types.GenericAlias'>\n",
      "\n"
     ]
    }
   ],
   "source": [
    "#Range de python\n",
    "range(0,10)\n",
    "#volviendolo a lista con el metodo list()\n",
    "lista=list(range(0,10))\n",
    "print(f'Lista = {lista}\\nTipo = {type(lista)}\\n')\n",
    "\n",
    "#Hay que tener en cuenta que es diferente a esto\n",
    "print(f'Lista = {list[range(0,10)]}\\ntipo = {type(list[range(0,10)])}\\n')\n",
    "#Esto es debido a que list es un metodo y lleva (), a pesar de que una lista se declara entre corchetes"
   ]
  },
  {
   "cell_type": "code",
   "execution_count": 10,
   "metadata": {},
   "outputs": [
    {
     "data": {
      "text/plain": [
       "array([0, 1, 2, 3, 4, 5, 6, 7, 8, 9])"
      ]
     },
     "execution_count": 10,
     "metadata": {},
     "output_type": "execute_result"
    }
   ],
   "source": [
    "#Range en numpy \n",
    "print(f'np.arange(0,10) = {np.arange(0,10)}')"
   ]
  },
  {
   "cell_type": "markdown",
   "metadata": {},
   "source": [
    "### El formato de *numpy.arange()* al igual que *range()* tiene varios parametros \n",
    "\n",
    "\n",
    "|range(x,y,z):|numpy.arange(x,y,z)|\n",
    "|---|---|\n",
    "\n",
    "- x: inicio del rango     [es inclusivo]\n",
    "- y: fin del rango        [es exclusivo]\n",
    "- z: paso entre cada elemento"
   ]
  },
  {
   "cell_type": "code",
   "execution_count": 11,
   "metadata": {},
   "outputs": [
    {
     "name": "stdout",
     "output_type": "stream",
     "text": [
      "np.arange(0,11,2) = [ 0  2  4  6  8 10]\n"
     ]
    }
   ],
   "source": [
    "#Range en numpy \n",
    "print(f'np.arange(0,11,2) = {np.arange(0,11,2)}')"
   ]
  },
  {
   "cell_type": "code",
   "execution_count": 15,
   "metadata": {},
   "outputs": [
    {
     "name": "stdout",
     "output_type": "stream",
     "text": [
      "Vector = [0. 0. 0. 0. 0.]\n",
      "Matriz = \n",
      "[[0. 0. 0. 0. 0.]\n",
      " [0. 0. 0. 0. 0.]\n",
      " [0. 0. 0. 0. 0.]\n",
      " [0. 0. 0. 0. 0.]\n",
      " [0. 0. 0. 0. 0.]]\n"
     ]
    }
   ],
   "source": [
    "#Vector de ceros\n",
    "print(f'Vector = {np.zeros(5)}')\n",
    "\n",
    "#Matriz de ceros\n",
    "print(f'Matriz = \\n{np.zeros((5,5))}')\n"
   ]
  },
  {
   "cell_type": "code",
   "execution_count": 18,
   "metadata": {},
   "outputs": [
    {
     "name": "stdout",
     "output_type": "stream",
     "text": [
      "Vector = [1. 1. 1. 1. 1.]\n",
      "Vector = \n",
      "[[1. 1. 1. 1. 1.]\n",
      " [1. 1. 1. 1. 1.]\n",
      " [1. 1. 1. 1. 1.]\n",
      " [1. 1. 1. 1. 1.]\n",
      " [1. 1. 1. 1. 1.]]\n"
     ]
    }
   ],
   "source": [
    "#Vector de unos\n",
    "print(f'Vector = {np.ones(5)}')\n",
    "\n",
    "#Matriz de unos\n",
    "print(f'Vector = \\n{np.ones((5,5))}')"
   ]
  },
  {
   "cell_type": "markdown",
   "metadata": {},
   "source": [
    "### Hay que poner especial enfásis en como se declaran los métodos \n",
    "\n",
    "***Vector->''numpy.ones(5)''***\n",
    "\n",
    "***Matriz->''numpy.zeros((5,5,)'')***\n",
    "\n",
    "Como te puedes dar cuenta tanto 'numpy.ones()' como 'numpy.zeros()' llevan dobles \\( \\) para distinguir que tipo de arreglo se está creando"
   ]
  },
  {
   "cell_type": "code",
   "execution_count": 21,
   "metadata": {},
   "outputs": [
    {
     "name": "stdout",
     "output_type": "stream",
     "text": [
      "Datos = \n",
      "[ 0.          1.11111111  2.22222222  3.33333333  4.44444444  5.55555556\n",
      "  6.66666667  7.77777778  8.88888889 10.        ]\n",
      "\n",
      "Datos = \n",
      "[ 0.          0.52631579  1.05263158  1.57894737  2.10526316  2.63157895\n",
      "  3.15789474  3.68421053  4.21052632  4.73684211  5.26315789  5.78947368\n",
      "  6.31578947  6.84210526  7.36842105  7.89473684  8.42105263  8.94736842\n",
      "  9.47368421 10.        ]\n"
     ]
    }
   ],
   "source": [
    "#Metodo de distribución con linspace\n",
    "\n",
    "#Creando un serie de datos mediante linspace\n",
    "print(f'Datos = \\n{np.linspace(0,10,10)}\\n')\n",
    "print(f'Datos = \\n{np.linspace(0,10,20)}')"
   ]
  },
  {
   "cell_type": "markdown",
   "metadata": {},
   "source": [
    "### linspace(inicio,fin,número_de_elementos)\n",
    "\n",
    "*x = numpy.linspace(0, 10, 100)*\n",
    "\n",
    "Nos genera un secuencia de elementos que van desde **0 (cero)** a **10 (diez)** con **100** elementos dentro del arreglo\n",
    "\n",
    "De esta manera puedo generar una serie de **n** datos con un rango establecido y una *distrubución normalizada*"
   ]
  },
  {
   "cell_type": "code",
   "execution_count": 22,
   "metadata": {},
   "outputs": [
    {
     "name": "stdout",
     "output_type": "stream",
     "text": [
      "Matriz = \n",
      "[[1. 0. 0. 0. 0.]\n",
      " [0. 1. 0. 0. 0.]\n",
      " [0. 0. 1. 0. 0.]\n",
      " [0. 0. 0. 1. 0.]\n",
      " [0. 0. 0. 0. 1.]]\n"
     ]
    }
   ],
   "source": [
    "#Función Matriz diagonal de unos\n",
    "print(f'Matriz = \\n{np.eye(5)}')"
   ]
  },
  {
   "cell_type": "markdown",
   "metadata": {},
   "source": [
    "### *numpy.eye(x)*\n",
    "\n",
    "Genera una estructura matricial con la diagonal principal en 1 y el parametro **x** nos da la dimensión de la matriz cuadrada"
   ]
  },
  {
   "cell_type": "code",
   "execution_count": 31,
   "metadata": {},
   "outputs": [
    {
     "name": "stdout",
     "output_type": "stream",
     "text": [
      "numpy.random.rand() = 0.7984750553988339\n",
      "\n",
      "numpy.random.rand(5) = \n",
      "[0.77003583 0.26826937 0.49346322 0.09572636 0.5751962 ]\n",
      "\n",
      "numpy.random.rand(3,4) = \n",
      "[[0.47046769 0.97909431 0.59043578 0.76388229]\n",
      " [0.45832617 0.90161256 0.44050942 0.62489968]\n",
      " [0.4892355  0.1383628  0.92642458 0.50815927]]\n",
      "\n"
     ]
    }
   ],
   "source": [
    "#Valores aleatorios\n",
    "\n",
    "#Me genera valores aleatorios entre 0 y 1\n",
    "print(f'numpy.random.rand() = {np.random.rand()}\\n')\n",
    "\n",
    "#Generando un vector de valores aleatorios\n",
    "print(f'numpy.random.rand(5) = \\n{np.random.rand(5)}\\n')\n",
    "\n",
    "#Generando una matriz de valores aleatorios\n",
    "print(f'numpy.random.rand(3,4) = \\n{np.random.rand(3,4)}\\n')"
   ]
  },
  {
   "cell_type": "markdown",
   "metadata": {},
   "source": [
    "### *numpy.random.rand(x)*\n",
    "\n",
    "Nos entrega un vector de números aleatorios en un rango de **0** a **1**, con **x** número de datos.\n",
    "\n",
    "### *numpy.random.rand(x,y)*\n",
    "\n",
    "Nos entrega una matriz de números aleatorios en un rango de **0** a **1**, con **x** número de filas y **y** número de columnas."
   ]
  },
  {
   "cell_type": "code",
   "execution_count": 30,
   "metadata": {},
   "outputs": [
    {
     "name": "stdout",
     "output_type": "stream",
     "text": [
      "numpy.random.randint(1,15) = 3\n",
      "numpy.random.randint(1,15, size=(3,3)) = \n",
      "[[10 14  7]\n",
      " [ 6  5 13]\n",
      " [12 10 13]]\n"
     ]
    }
   ],
   "source": [
    "#Obteniendo un número aleatorio entre un rango a - b\n",
    "print(f'numpy.random.randint(1,15) = {np.random.randint(1,15)}')\n",
    "\n",
    "#Obteniendo una matriz de números aleatorios en un rango a - b\n",
    "print(f'numpy.random.randint(1,15, size=(3,3)) = \\n{np.random.randint(1,15, size=(3,3))}')"
   ]
  },
  {
   "cell_type": "code",
   "execution_count": null,
   "metadata": {},
   "outputs": [],
   "source": []
  }
 ],
 "metadata": {
  "kernelspec": {
   "display_name": "base",
   "language": "python",
   "name": "python3"
  },
  "language_info": {
   "codemirror_mode": {
    "name": "ipython",
    "version": 3
   },
   "file_extension": ".py",
   "mimetype": "text/x-python",
   "name": "python",
   "nbconvert_exporter": "python",
   "pygments_lexer": "ipython3",
   "version": "3.10.14"
  }
 },
 "nbformat": 4,
 "nbformat_minor": 2
}

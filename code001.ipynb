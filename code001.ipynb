{
 "cells": [
  {
   "cell_type": "code",
   "execution_count": 11,
   "metadata": {},
   "outputs": [],
   "source": [
    "#Importing packages\n",
    "import numpy as np\n",
    "import pandas as pd"
   ]
  },
  {
   "cell_type": "code",
   "execution_count": 12,
   "metadata": {},
   "outputs": [
    {
     "name": "stdout",
     "output_type": "stream",
     "text": [
      "lista = [1, 2, 3, 4, 5, 6, 7, 8, 9]\n",
      "Type = <class 'list'>\n",
      "\n",
      "lista2 = [1 2 3 4 5 6 7 8 9]\n",
      "Type = <class 'numpy.ndarray'>\n"
     ]
    }
   ],
   "source": [
    "#Working with data\n",
    "lista = [1,2,3,4,5,6,7,8,9]\n",
    "#Llevando una lista de python a numpy\n",
    "lista2 = np.array(lista)\n",
    "\n",
    "#Otra manera de hacer una lista\n",
    "#a =np.array([1,2,3])\n",
    "#print(f\"a = {a}\\nType = {type(a)}\")\n",
    "\n",
    "#Imprimiendo las listas\n",
    "print(f\"lista = {lista}\\nType = {type(lista)}\\n\")\n",
    "print(f\"lista2 = {lista2}\\nType = {type(lista2)}\")"
   ]
  },
  {
   "cell_type": "code",
   "execution_count": 13,
   "metadata": {},
   "outputs": [
    {
     "name": "stdout",
     "output_type": "stream",
     "text": [
      "matriz = [[1, 2, 3], [4, 5, 6], [7, 8, 9]]\n",
      "Type = <class 'list'>\n",
      "\n",
      "matriz2 = [[1 2 3]\n",
      " [4 5 6]\n",
      " [7 8 9]]\n",
      "Type = <class 'numpy.ndarray'>\n"
     ]
    }
   ],
   "source": [
    "#Creando objetos de multiples dimensiones\n",
    "matriz = [[1,2,3],[4,5,6],[7,8,9]]\n",
    "matriz2 = np.array(matriz)\n",
    "\n",
    "#Imprimiendo las matrices\n",
    "print(f\"matriz = {matriz}\\nType = {type(matriz)}\\n\")\n",
    "print(f\"matriz2 = {matriz2}\\nType = {type(matriz2)}\")"
   ]
  },
  {
   "cell_type": "code",
   "execution_count": 14,
   "metadata": {},
   "outputs": [
    {
     "name": "stdout",
     "output_type": "stream",
     "text": [
      "lista[0] = 1\n",
      "lista[1] = 2\n",
      "\n",
      "lista[3] + lista[7] = 4 + 8 = 12\n"
     ]
    }
   ],
   "source": [
    "#Indexing lista\n",
    "print(f\"lista[0] = {lista[0]}\\nlista[1] = {lista[1]}\\n\")\n",
    "print(f'lista[3] + lista[7] = {lista[3]} + {lista[7]} = {lista[3]+lista[7]}')\n"
   ]
  },
  {
   "cell_type": "code",
   "execution_count": 15,
   "metadata": {},
   "outputs": [
    {
     "name": "stdout",
     "output_type": "stream",
     "text": [
      "matriz[0] = [1, 2, 3]\n",
      "\n",
      "matriz[1] = [4, 5, 6]\n",
      "\n",
      "matriz[2] = [7, 8, 9]\n",
      "\n",
      "matriz2[0,1] = 2\n"
     ]
    }
   ],
   "source": [
    "#Indexing matrices\n",
    "print(f'matriz[0] = {matriz[0]}\\n')\n",
    "print(f'matriz[1] = {matriz[1]}\\n')\n",
    "print(f'matriz[2] = {matriz[2]}\\n')\n",
    "\n",
    "#Indexing por filas y columnas solo se puede con numpy\n",
    "print(f'matriz2[0,1] = {matriz2[0,1]}')"
   ]
  },
  {
   "cell_type": "code",
   "execution_count": 16,
   "metadata": {},
   "outputs": [
    {
     "name": "stdout",
     "output_type": "stream",
     "text": [
      "matriz[0:3] = [[1, 2, 3], [4, 5, 6], [7, 8, 9]]\n",
      "\n",
      "matriz2[0:3] = [[1 2 3]\n",
      " [4 5 6]\n",
      " [7 8 9]]\n",
      "\n",
      "lista[::3] = [1, 4, 7]\n",
      "matriz2[0::3] = [[1 2 3]]\n",
      "\n",
      "matriz2[1:,0:2] = [[4 5]\n",
      " [7 8]]\n"
     ]
    }
   ],
   "source": [
    "#Slicing\n",
    "print(f'matriz[0:3] = {matriz[0:3]}\\n')\n",
    "print(f'matriz2[0:3] = {matriz2[0:3]}\\n')\n",
    "\n",
    "#slicing \n",
    "print(f'lista[::3] = {lista[::3]}')\n",
    "print(f'matriz2[0::3] = {matriz2[0::3]}\\n')\n",
    "\n",
    "#También esto nos arrojará un error\n",
    "#matriz[1:,0:2]\n",
    "#TypeError: list indices must be integers or slices, not tuple\n",
    "\n",
    "#Como se puede ver la forma de acceder correctamente es\n",
    "print(f'matriz2[1:,0:2] = {matriz2[1:,0:2]}')\n",
    "#Hay que recordar que el slicing no toma en cuenta el segundo digito despues de los 2 puntos"
   ]
  },
  {
   "cell_type": "code",
   "execution_count": 17,
   "metadata": {},
   "outputs": [
    {
     "name": "stdout",
     "output_type": "stream",
     "text": [
      "Matriz de n3 en python = [[[1, 2, 3], [4, 5, 6], [7, 8, 9]], [[10, 11, 12], [13, 14, 15], [16, 17, 18]], [[19, 20, 21], [22, 23, 24], [25, 26, 27]]]\n",
      "\n",
      "Matriz de n3 en numpy = \n",
      "[[[ 1  2  3]\n",
      "  [ 4  5  6]\n",
      "  [ 7  8  9]]\n",
      "\n",
      " [[10 11 12]\n",
      "  [13 14 15]\n",
      "  [16 17 18]]\n",
      "\n",
      " [[19 20 21]\n",
      "  [22 23 24]\n",
      "  [25 26 27]]]\n"
     ]
    }
   ],
   "source": [
    "#Haciendo una matriz de 3 dimensiones en python\n",
    "matres = [[[1,2,3],[4,5,6],[7,8,9]],[[10,11,12],[13,14,15],[16,17,18]],[[19,20,21],[22,23,24],[25,26,27]]]\n",
    "print(f'Matriz de n3 en python = {matres}\\n')\n",
    "\n",
    "#Haciendo una matriz de 3 dimensiones en numpy\n",
    "matres2 = np.array(matres)\n",
    "print(f'Matriz de n3 en numpy = \\n{matres2}')"
   ]
  },
  {
   "cell_type": "code",
   "execution_count": 18,
   "metadata": {},
   "outputs": [
    {
     "name": "stdout",
     "output_type": "stream",
     "text": [
      "matres2[1] = \n",
      "[[10 11 12]\n",
      " [13 14 15]\n",
      " [16 17 18]]\n",
      "\n",
      "matres2[1][2] = [16 17 18]\n",
      "\n",
      "matres2[1][1][2] = 15\n"
     ]
    }
   ],
   "source": [
    "#Accediendo a los elementos de numpy\n",
    "print(f'matres2[1] = \\n{matres2[1]}\\n')\n",
    "\n",
    "print(f'matres2[1][2] = {matres2[1][2]}\\n')\n",
    "\n",
    "print(f'matres2[1][1][2] = {matres2[1][1][2]}')\n"
   ]
  }
 ],
 "metadata": {
  "kernelspec": {
   "display_name": "base",
   "language": "python",
   "name": "python3"
  },
  "language_info": {
   "codemirror_mode": {
    "name": "ipython",
    "version": 3
   },
   "file_extension": ".py",
   "mimetype": "text/x-python",
   "name": "python",
   "nbconvert_exporter": "python",
   "pygments_lexer": "ipython3",
   "version": "3.10.14"
  }
 },
 "nbformat": 4,
 "nbformat_minor": 2
}

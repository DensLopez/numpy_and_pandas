{
 "cells": [
  {
   "cell_type": "markdown",
   "metadata": {},
   "source": [
    "## Funciones Principales NUMPY"
   ]
  },
  {
   "cell_type": "code",
   "execution_count": 1,
   "metadata": {},
   "outputs": [],
   "source": [
    "import numpy as np"
   ]
  },
  {
   "cell_type": "code",
   "execution_count": 6,
   "metadata": {},
   "outputs": [
    {
     "name": "stdout",
     "output_type": "stream",
     "text": [
      "Matriz = \n",
      "[[15  1 19 14 19]\n",
      " [ 1 19  1 15  1]]\n",
      "Tamaño = (2, 5)\n"
     ]
    }
   ],
   "source": [
    "#Vector de 10 elementos\n",
    "array = np.random.randint(1,20,10)\n",
    "\n",
    "#Convirtiendo a la matriz\n",
    "matriz = array.reshape(2,5)\n",
    "print(f'Matriz = \\n{matriz}\\nTamaño = {matriz.shape}')"
   ]
  },
  {
   "cell_type": "code",
   "execution_count": 16,
   "metadata": {},
   "outputs": [
    {
     "name": "stdout",
     "output_type": "stream",
     "text": [
      "Matriz = \n",
      "[[15  1 19 14 19]\n",
      " [ 1 19  1 15  1]]\n",
      "Tamaño = (2, 5)\n",
      "\n",
      "Maximo de Matriz = 19\n",
      "Maximo por columna = [15 19 19 15 19]\n",
      "Maximo por filas = [19 19]\n"
     ]
    }
   ],
   "source": [
    "#Max    Número mas grande\n",
    "#Imprimiendo datos de la matriz\n",
    "print(f'Matriz = \\n{matriz}\\nTamaño = {matriz.shape}\\n')\n",
    "\n",
    "#Aplicandolo a una matriz\n",
    "max_num = matriz.max()\n",
    "print(f'Maximo de Matriz = {max_num}')\n",
    "\n",
    "#Indicando que máximos que queremos \n",
    "\n",
    "#Columnas\n",
    "max_num = matriz.max(0)\n",
    "print(f'Maximo por columna = {max_num}')\n",
    "#Filas\n",
    "max_num = matriz.max(1)\n",
    "print(f'Maximo por filas = {max_num}')\n"
   ]
  },
  {
   "cell_type": "markdown",
   "metadata": {},
   "source": [
    "## Importante:\n",
    "\n",
    "Los ejes en Numpy son axis(x,y,z,w...) donde:\n",
    "- x es el eje de las filas (o rows) y es 0\n",
    "- y es el eje de las columnas y es 1\n",
    "- z es el eje de la profundidad y es 2\n",
    "- Sucesivamente\n",
    "  \n",
    "![Axes](images/axes_00.jpg \"Representación de ejes\")\n"
   ]
  },
  {
   "cell_type": "markdown",
   "metadata": {},
   "source": [
    "#### Algunas operaciones en numpy se rigen por:\n",
    "\n",
    "axis = 0 Hace que se colapsan las filas y solo queda una fila\n",
    "\n",
    "![Axis=0](images/axes_01.jpg \"Colapsando en filas\")\n"
   ]
  },
  {
   "cell_type": "markdown",
   "metadata": {},
   "source": [
    "axis = 1 Hace que colapsen las columnas quedando solo una columna\n",
    "\n",
    "![Axis=1](images/axes_02.jpg \"Colapsando en columnas\")"
   ]
  },
  {
   "cell_type": "code",
   "execution_count": 36,
   "metadata": {},
   "outputs": [
    {
     "name": "stdout",
     "output_type": "stream",
     "text": [
      "Array = \n",
      "[15  1 19 14 19  1 19  1 15  1]\n",
      "El indice del número mayour es = 2\n",
      "\n",
      "Matriz = \n",
      "[[15  1 19 14 19]\n",
      " [ 1 19  1 15  1]]\n",
      "El indice del número mayor es = 2\n",
      "\n",
      "Por columnas\n",
      "Matriz = \n",
      "[[15  1 19 14 19]\n",
      " [ 1 19  1 15  1]]\n",
      "El indice del numero mayor es = [0 1 0 1 0]\n",
      "\n",
      "Por filas\n",
      "Matriz = \n",
      "[[15  1 19 14 19]\n",
      " [ 1 19  1 15  1]]\n",
      "El indice del numero mayor es = [2 1]\n"
     ]
    }
   ],
   "source": [
    "#argmax me devuelve el indice del número mayor mas próximo\n",
    "#Encontrando el indice del max en vector\n",
    "max_ind = array.argmax()\n",
    "print(f'Array = \\n{array}\\n\\\n",
    "El indice del número mayour es = {max_ind}\\n')\n",
    "\n",
    "#Encontrando el indice del max en matriz\n",
    "max_ind = matriz.argmax()   #global\n",
    "print(f'Matriz = \\n{matriz}\\n\\\n",
    "El indice del número mayor es = {max_ind}\\n')\n",
    "\n",
    "#Pero si queremos en columnas\n",
    "print('Por columnas')\n",
    "max_ind = matriz.argmax(0)  #columnas\n",
    "print(f'Matriz = \\n{matriz}\\n\\\n",
    "El indice del numero mayor es = {max_ind}\\n')\n",
    "\n",
    "#Pero si queremos en filas\n",
    "print('Por filas')\n",
    "max_ind = matriz.argmax(1)  #columnas\n",
    "print(f'Matriz = \\n{matriz}\\n\\\n",
    "El indice del numero mayor es = {max_ind}')\n"
   ]
  },
  {
   "cell_type": "markdown",
   "metadata": {},
   "source": [
    "## Nota:\n",
    "\n",
    "*Si queremos encontrar el **mayor de cada fila***\n",
    "*tenenemos que **colapsar en columnas***\n",
    "\n",
    "*Si queremos encontrar el **mayor de cada columna***\n",
    "*tenemos que **colapsar en filas***"
   ]
  },
  {
   "cell_type": "markdown",
   "metadata": {},
   "source": [
    "# NOTA IMPORTANTE\n",
    "\n",
    "Para arrays de 1D esto puede no funcionar así,\n",
    "tiene algunas particularidades"
   ]
  },
  {
   "cell_type": "code",
   "execution_count": 40,
   "metadata": {},
   "outputs": [
    {
     "name": "stdout",
     "output_type": "stream",
     "text": [
      "Vector = [15  1 19 14 19  1 19  1 15  1]\n",
      "Valor minimo = 1\n",
      "Indice del valor minimo de un vector = 1\n",
      "\n",
      "Matriz = \n",
      "[[15  1 19 14 19]\n",
      " [ 1 19  1 15  1]]\n",
      "Valor minimo = 1\n",
      "Indice del valor minimo de una matriz = 1\n",
      "\n",
      "Por filas\n",
      "Matriz = \n",
      "[[15  1 19 14 19]\n",
      " [ 1 19  1 15  1]]\n",
      "Valor minimo = [1 1]\n",
      "Indice del valor minimo de una matriz = [1 0]\n",
      "\n",
      "Por columnas\n",
      "Matriz = \n",
      "[[15  1 19 14 19]\n",
      " [ 1 19  1 15  1]]\n",
      "Valor minimo = [ 1  1  1 14  1]\n",
      "Indice del valor minimo de una matriz = [1 0 1 0 1]\n"
     ]
    }
   ],
   "source": [
    "#Valor minimo de un vector\n",
    "min_num = array.min()\n",
    "print(f\"Vector = {array}\\n\\\n",
    "Valor minimo = {min_num}\")\n",
    "\n",
    "#Indice de valor minimo de un vector\n",
    "min_index = array.argmin()\n",
    "print(f'Indice del valor minimo de un vector = \\\n",
    "{min_index}\\n')\n",
    "\n",
    "#Valor minimo de una matriz\n",
    "min_num = matriz.min()  #global\n",
    "print(f'Matriz = \\n{matriz}\\n\\\n",
    "Valor minimo = {min_num}')\n",
    "min_index = matriz.argmin()\n",
    "print(f'Indice del valor minimo de una matriz = \\\n",
    "{min_index}\\n')\n",
    "\n",
    "#Valor minimo de una matriz por filas\n",
    "print('Por filas')\n",
    "min_num = matriz.min(1)  #filas\n",
    "print(f'Matriz = \\n{matriz}\\n\\\n",
    "Valor minimo = {min_num}')\n",
    "min_index = matriz.argmin(1)\n",
    "print(f'Indice del valor minimo de una matriz = \\\n",
    "{min_index}\\n')\n",
    "\n",
    "#Valor minimo de una matriz por columnas\n",
    "print('Por columnas')\n",
    "min_num = matriz.min(0)  #filas\n",
    "print(f'Matriz = \\n{matriz}\\n\\\n",
    "Valor minimo = {min_num}')\n",
    "min_index = matriz.argmin(0)\n",
    "print(f'Indice del valor minimo de una matriz = \\\n",
    "{min_index}')"
   ]
  },
  {
   "cell_type": "code",
   "execution_count": 41,
   "metadata": {},
   "outputs": [
    {
     "name": "stdout",
     "output_type": "stream",
     "text": [
      "Vector = [15  1 19 14 19  1 19  1 15  1]\n"
     ]
    }
   ],
   "source": [
    "#peak to peak\n",
    "print(f'Vector = {array}')\n"
   ]
  },
  {
   "cell_type": "markdown",
   "metadata": {},
   "source": [
    "El valor mas **pequeño** es **1** y el mas **grande** es **19**"
   ]
  },
  {
   "cell_type": "code",
   "execution_count": 43,
   "metadata": {},
   "outputs": [
    {
     "name": "stdout",
     "output_type": "stream",
     "text": [
      "La distancia peak to peak = 18\n"
     ]
    }
   ],
   "source": [
    "print(f'La distancia peak to peak = {array.ptp()}')"
   ]
  },
  {
   "cell_type": "markdown",
   "metadata": {},
   "source": [
    "*Aqui puedo ver la distribución entre*\n",
    "*valor mínimo y valor máximo*"
   ]
  },
  {
   "cell_type": "code",
   "execution_count": 49,
   "metadata": {},
   "outputs": [
    {
     "name": "stdout",
     "output_type": "stream",
     "text": [
      "Matriz = \n",
      "[[15  1 19 14 19]\n",
      " [ 1 19  1 15  1]]\n",
      "\n",
      "Por columnas\n",
      "Peak to peak = [14 18 18  1 18]\n",
      "\n",
      "Por filas\n",
      "Peak to peak = [18 18]\n"
     ]
    }
   ],
   "source": [
    "#Hagamoslo a nivel matricial\n",
    "\n",
    "#Imprimiendo matriz\n",
    "print(f'Matriz = \\n{matriz}\\n')\n",
    "\n",
    "#Buscando por columnas\n",
    "peakMat=matriz.ptp(0)\n",
    "print('Por columnas')\n",
    "print(f'Peak to peak = {peakMat}\\n')\n",
    "\n",
    "#Buscando por filas\n",
    "peakMat=matriz.ptp(1)\n",
    "print('Por filas')\n",
    "print(f'Peak to peak = {peakMat}')"
   ]
  },
  {
   "cell_type": "markdown",
   "metadata": {},
   "source": [
    "\n",
    "Un percentil es una medida estadística que indica el valor por debajo del cual se encuentra un porcentaje específico de observaciones en un conjunto de datos. Por ejemplo, el percentil 50, también conocido como la mediana, indica el valor que separa el 50% más bajo del 50% más alto de los datos. Los percentiles son útiles para comprender la distribución de los datos y para comparar diferentes conjuntos de datos. Se utilizan comúnmente en campos como la salud (por ejemplo, para evaluar el crecimiento de los niños) y en pruebas estandarizadas (por ejemplo, para evaluar el rendimiento académico)."
   ]
  },
  {
   "cell_type": "code",
   "execution_count": 53,
   "metadata": {},
   "outputs": [
    {
     "name": "stdout",
     "output_type": "stream",
     "text": [
      "Vector = [15  1 19 14 19  1 19  1 15  1]\n",
      "Percentil 50 = 14.5\n",
      "Percentil 20 = 1.0\n",
      "Percentil 0 = 1.0\n",
      "Percentil 100 = 19.0\n"
     ]
    }
   ],
   "source": [
    "#percentil\n",
    "print(f'Vector = {array}')\n",
    "print(f'Percentil 50 = {np.percentile(array,50)}')\n",
    "print(f'Percentil 20 = {np.percentile(array,20)}')\n",
    "print(f'Percentil 0 = {np.percentile(array,0)}')\n",
    "print(f'Percentil 100 = {np.percentile(array,100)}')\n",
    "\n",
    "\n"
   ]
  },
  {
   "cell_type": "markdown",
   "metadata": {},
   "source": [
    "OJO: Percentil toma el número de datos que hay"
   ]
  },
  {
   "cell_type": "code",
   "execution_count": 59,
   "metadata": {},
   "outputs": [
    {
     "name": "stdout",
     "output_type": "stream",
     "text": [
      "Vector ordenado = [ 1  1  1  1 14 15 15 19 19 19]\n",
      "\n",
      "Como se pude ver el percentil 50 esta entre 14 y 15\n"
     ]
    }
   ],
   "source": [
    "#Ordenar datos sort\n",
    "array.sort()\n",
    "array\n",
    "print(f'Vector ordenado = {array}\\n')\n",
    "print(f'Como se pude ver el percentil 50 esta entre 14 y 15')"
   ]
  },
  {
   "cell_type": "markdown",
   "metadata": {},
   "source": [
    "## IMPORTANTE:\n",
    "\n",
    "Hay que recordar que el método sort() modifica arrays"
   ]
  },
  {
   "cell_type": "code",
   "execution_count": 66,
   "metadata": {},
   "outputs": [
    {
     "name": "stdout",
     "output_type": "stream",
     "text": [
      "Mediana = 14.5\n",
      "Matriz = \n",
      "[[ 1  1  1  1 14]\n",
      " [15 15 19 19 19]]\n",
      "Mediana de matriz = 14.5\n",
      "Mediana de matriz por columnas = [ 8.   8.  10.  10.  16.5]\n",
      "Mediana de matriz por filas = [ 1. 19.]\n"
     ]
    }
   ],
   "source": [
    "#Mediana\n",
    "mediana = np.median(array) \n",
    "print(f'Mediana = {mediana}')\n",
    " \n",
    "#Ordenando matriz mediana de matriz\n",
    "matriz.sort()\n",
    "print(f'Matriz = \\n{matriz}')\n",
    "mediana_mat = np.median(matriz)\n",
    "print(f'Mediana de matriz = {mediana_mat}')\n",
    "\n",
    "#Mediana de la matriz por columnas\n",
    "mediana_mat = np.median(matriz,0)\n",
    "print(f'Mediana de matriz por columnas = {mediana_mat}')\n",
    "\n",
    "#Mediana de la matriz por filas\n",
    "mediana_mat = np.median(matriz,1)\n",
    "print(f'Mediana de matriz por filas = {mediana_mat}')\n"
   ]
  },
  {
   "cell_type": "markdown",
   "metadata": {},
   "source": [
    "Para calcular la mediana de un conjunto de datos, sigue estos pasos:\n",
    "\n",
    "1. Ordena los datos de menor a mayor: Si tienes una lista de datos, arréglalos en orden ascendente.\n",
    "\n",
    "2. Encuentra el valor medio: Si hay un número impar de datos, la mediana es simplemente el valor en el medio de la lista después de ordenarlos. Si hay un número par de datos, la mediana es el promedio de los dos valores medios.\n",
    "\n",
    "Por ejemplo, si tienes los datos: 3, 6, 9, 12, 15. La mediana sería 9, ya que es el valor en el medio de la lista ordenada.\n",
    "\n",
    "Si tienes los datos: 2, 4, 6, 8, 10, 12. La mediana sería (6 + 8) / 2 = 7, ya que hay un número par de datos y la mediana es el promedio de los dos valores medios (6 y 8)."
   ]
  },
  {
   "cell_type": "code",
   "execution_count": 67,
   "metadata": {},
   "outputs": [
    {
     "name": "stdout",
     "output_type": "stream",
     "text": [
      "Desviación estandard = 7.940403012442126\n"
     ]
    }
   ],
   "source": [
    "#Desviación standard\n",
    "desv_st =np.std(array)\n",
    "print(f'Desviación estandard = {desv_st}')\n"
   ]
  },
  {
   "cell_type": "markdown",
   "metadata": {},
   "source": [
    "\n",
    "La desviación estándar es una medida de dispersión que indica cuánto varían los valores de un conjunto de datos respecto a la media. Cuanto mayor sea la desviación estándar, mayor será la dispersión de los datos alrededor de la media, y cuanto menor sea, menor será esa dispersión.\n",
    "\n",
    "Para calcular la desviación estándar, sigue estos pasos:\n",
    "\n",
    "1. Calcula la media: Suma todos los valores en el conjunto de datos y luego divídelo por el número total de valores. Esto te dará la media.\n",
    "\n",
    "2. Calcula la diferencia entre cada valor y la media: Resta la media de cada valor en el conjunto de datos.\n",
    "\n",
    "3. Eleva al cuadrado cada diferencia: Esto se hace para eliminar signos negativos y para enfatizar las desviaciones más grandes.\n",
    "\n",
    "4. Calcula la media de los cuadrados de las diferencias: Suma todos los cuadrados de las diferencias y divide el resultado por el número total de valores.\n",
    "\n",
    "5. Calcula la raíz cuadrada de la media de los cuadrados de las diferencias: Esta es la desviación estándar.\n",
    "\n",
    "![Desviación standard](images/desv_st.jpg)\n"
   ]
  },
  {
   "cell_type": "code",
   "execution_count": 68,
   "metadata": {},
   "outputs": [
    {
     "name": "stdout",
     "output_type": "stream",
     "text": [
      "Vector = [ 1  1  1  1 14 15 15 19 19 19]\n",
      "Varianza = 63.05\n"
     ]
    }
   ],
   "source": [
    "#Varianza\n",
    "print(f'Vector = {array}\\nVarianza = {np.var(array)}')"
   ]
  },
  {
   "cell_type": "markdown",
   "metadata": {},
   "source": [
    "![Varianza](images/varianza.jpg)\n",
    "\n",
    "*La varianza es la elevación al cuadrado de la desviación standard*"
   ]
  },
  {
   "cell_type": "code",
   "execution_count": 93,
   "metadata": {},
   "outputs": [
    {
     "name": "stdout",
     "output_type": "stream",
     "text": [
      "Vector = [ 1  1  1  1 14 15 15 19 19 19]\n",
      "Media = 10.5\n"
     ]
    }
   ],
   "source": [
    "#Media\n",
    "print(f'Vector = {array}\\nMedia = {np.mean(array)}')"
   ]
  },
  {
   "cell_type": "markdown",
   "metadata": {},
   "source": [
    "La media, también conocida como promedio, es una medida estadística que representa el valor típico o central de un conjunto de datos. Para calcular la media, sumas todos los valores en el conjunto de datos y luego divides esa suma por el número total de valores.\n",
    "\n",
    "Por ejemplo, si tienes los siguientes datos: 2, 4, 6, 8, 10, la media sería:\n",
    "\n",
    "![Media](images/media.jpg)\n",
    "\n",
    "La media en este caso es 6, ya que es el valor que equitativamente distribuiría la suma total de los datos si todos fueran iguales. Es una medida útil para entender el valor central de un conjunto de datos."
   ]
  },
  {
   "cell_type": "code",
   "execution_count": 95,
   "metadata": {},
   "outputs": [
    {
     "name": "stdout",
     "output_type": "stream",
     "text": [
      "Matriz A = \n",
      "[[1 2]\n",
      " [3 4]]\n",
      "\n",
      "Matriz B = \n",
      "[5 6]\n"
     ]
    },
    {
     "ename": "ValueError",
     "evalue": "all the input arrays must have same number of dimensions, but the array at index 0 has 2 dimension(s) and the array at index 1 has 1 dimension(s)",
     "output_type": "error",
     "traceback": [
      "\u001b[0;31m---------------------------------------------------------------------------\u001b[0m",
      "\u001b[0;31mValueError\u001b[0m                                Traceback (most recent call last)",
      "Cell \u001b[0;32mIn[95], line 9\u001b[0m\n\u001b[1;32m      6\u001b[0m B \u001b[38;5;241m=\u001b[39m np\u001b[38;5;241m.\u001b[39marray([\u001b[38;5;241m5\u001b[39m,\u001b[38;5;241m6\u001b[39m])\n\u001b[1;32m      7\u001b[0m \u001b[38;5;28mprint\u001b[39m(\u001b[38;5;124mf\u001b[39m\u001b[38;5;124m'\u001b[39m\u001b[38;5;124mMatriz B = \u001b[39m\u001b[38;5;130;01m\\n\u001b[39;00m\u001b[38;5;132;01m{\u001b[39;00mB\u001b[38;5;132;01m}\u001b[39;00m\u001b[38;5;124m'\u001b[39m)\n\u001b[0;32m----> 9\u001b[0m C \u001b[38;5;241m=\u001b[39m \u001b[43mnp\u001b[49m\u001b[38;5;241;43m.\u001b[39;49m\u001b[43mconcatenate\u001b[49m\u001b[43m(\u001b[49m\u001b[43m(\u001b[49m\u001b[43mA\u001b[49m\u001b[43m,\u001b[49m\u001b[43mB\u001b[49m\u001b[43m)\u001b[49m\u001b[43m,\u001b[49m\u001b[43maxis\u001b[49m\u001b[38;5;241;43m=\u001b[39;49m\u001b[38;5;241;43m0\u001b[39;49m\u001b[43m)\u001b[49m\n",
      "\u001b[0;31mValueError\u001b[0m: all the input arrays must have same number of dimensions, but the array at index 0 has 2 dimension(s) and the array at index 1 has 1 dimension(s)"
     ]
    }
   ],
   "source": [
    "#Concatenación\n",
    "B = np.squeeze(B)\n",
    "A = np.array([[1,2],[3,4]])\n",
    "print(f'Matriz A = \\n{A}\\n')\n",
    "\n",
    "B = np.array([5,6])\n",
    "print(f'Matriz B = \\n{B}')\n",
    "\n",
    "C = np.concatenate((A,B),axis=0)"
   ]
  },
  {
   "cell_type": "markdown",
   "metadata": {},
   "source": [
    "## No se puede concatenar en diferentes dimensiones"
   ]
  },
  {
   "cell_type": "code",
   "execution_count": 96,
   "metadata": {},
   "outputs": [
    {
     "name": "stdout",
     "output_type": "stream",
     "text": [
      "Dimensión de A = 2\n",
      "Tamaño = (2, 2)\n",
      "Dimensión de B = 1\n",
      "Tamaño = (2,)\n",
      "\n"
     ]
    }
   ],
   "source": [
    "#Obteniendo dimensiones\n",
    "B = np.squeeze(B)\n",
    "print(f'Dimensión de A = {A.ndim}\\nTamaño = {A.shape}')\n",
    "print(f'Dimensión de B = {B.ndim}\\nTamaño = {B.shape}\\n')\n"
   ]
  },
  {
   "cell_type": "code",
   "execution_count": 97,
   "metadata": {},
   "outputs": [],
   "source": [
    "#Expandiendo B a la misma dimensión de A\n",
    "B = np.expand_dims(B,axis=0)"
   ]
  },
  {
   "cell_type": "code",
   "execution_count": 98,
   "metadata": {},
   "outputs": [
    {
     "name": "stdout",
     "output_type": "stream",
     "text": [
      "Dimensión de A = 2\n",
      "Tamaño = (2, 2)\n",
      "Dimensión de B = 2\n",
      "Tamaño = (1, 2)\n",
      "\n",
      "Matriz A = \n",
      "[[1 2]\n",
      " [3 4]]\n",
      "\n",
      "Matriz B = \n",
      "[[5 6]]\n",
      "\n",
      "Concatenación por filas | Axis=0\n",
      "Matriz C = \n",
      "[[1 2]\n",
      " [3 4]\n",
      " [5 6]]\n"
     ]
    }
   ],
   "source": [
    "#Checando dimensiones\n",
    "print(f'Dimensión de A = {A.ndim}\\nTamaño = {A.shape}')\n",
    "print(f'Dimensión de B = {B.ndim}\\nTamaño = {B.shape}\\n')\n",
    "#Imprimiendo matrices\n",
    "print(f'Matriz A = \\n{A}\\n')\n",
    "print(f'Matriz B = \\n{B}\\n')\n",
    "\n",
    "#Concatenando por filas de A y B\n",
    "print('Concatenación por filas | Axis=0')\n",
    "C = np.concatenate((A,B),axis=0)\n",
    "print(f'Matriz C = \\n{C}')\n"
   ]
  },
  {
   "cell_type": "code",
   "execution_count": 92,
   "metadata": {},
   "outputs": [
    {
     "name": "stdout",
     "output_type": "stream",
     "text": [
      "Dimensión de A = 2\n",
      "Tamaño = (2, 2)\n",
      "Dimensión de B = 2\n",
      "Tamaño = (2, 1)\n",
      "\n",
      "Matriz A = \n",
      "[[1 2]\n",
      " [3 4]]\n",
      "\n",
      "Matriz B = \n",
      "[[5]\n",
      " [6]]\n",
      "\n",
      "Concatenación por filas | Axis=0\n",
      "Matriz C = \n",
      "[[1 2 5]\n",
      " [3 4 6]]\n"
     ]
    }
   ],
   "source": [
    "#Checando dimensiones\n",
    "B = np.squeeze(B)\n",
    "#Adaptando a B para que quede en forma de columna\n",
    "B = np.expand_dims(B,axis=1)\n",
    "print(f'Dimensión de A = {A.ndim}\\nTamaño = {A.shape}')\n",
    "print(f'Dimensión de B = {B.ndim}\\nTamaño = {B.shape}\\n')\n",
    "#Imprimiendo matrices\n",
    "print(f'Matriz A = \\n{A}\\n')\n",
    "print(f'Matriz B = \\n{B}\\n')\n",
    "\n",
    "#Concatenando por columnas de A y B\n",
    "print('Concatenación por filas | Axis=0')\n",
    "D = np.concatenate((A,B),axis=1)\n",
    "print(f'Matriz C = \\n{D}')"
   ]
  },
  {
   "cell_type": "markdown",
   "metadata": {},
   "source": [
    "Para acondicionar una matriz podemos usar:\n",
    "* Reshape\n",
    "* Matriz transpuesta\n",
    "* Expandir dimension"
   ]
  },
  {
   "cell_type": "code",
   "execution_count": 116,
   "metadata": {},
   "outputs": [
    {
     "name": "stdout",
     "output_type": "stream",
     "text": [
      "Dimensión de A = 2\n",
      "Tamaño = (2, 2)\n",
      "Dimensión de B = 2\n",
      "Tamaño = (2, 1)\n",
      "\n",
      "Matriz A = \n",
      "[[1 2]\n",
      " [3 4]]\n",
      "\n",
      "Matriz B = \n",
      "[[5]\n",
      " [6]]\n",
      "\n",
      "Concatenación por filas | Axis=0\n",
      "Matriz C = \n",
      "[[1 2]\n",
      " [3 4]\n",
      " [5 6]]\n"
     ]
    }
   ],
   "source": [
    "#Eliminando dimensiones innecesarias\n",
    "B = np.squeeze(B)\n",
    "B = np.expand_dims(B,axis=1)\n",
    "#Checando dimensión y forma\n",
    "print(f'Dimensión de A = {A.ndim}\\nTamaño = {A.shape}')\n",
    "print(f'Dimensión de B = {B.ndim}\\nTamaño = {B.shape}\\n')\n",
    "\n",
    "#Imprimiendo matrices\n",
    "print(f'Matriz A = \\n{A}\\n')\n",
    "print(f'Matriz B = \\n{B}\\n')\n",
    "\n",
    "#Otra forma es T => la transpuesta\n",
    "#Aquí por la forma, usaremos la transpuesta\n",
    "#B = np.transpose(B)\n",
    "#B = B.T\n",
    "\n",
    "\n",
    "\n",
    "#Concatenando por columnas de A y B\n",
    "print('Concatenación por filas | Axis=0')\n",
    "\n",
    "E = np.concatenate((A,B.T),axis=0)\n",
    "print(f'Matriz C = \\n{E}')"
   ]
  },
  {
   "cell_type": "markdown",
   "metadata": {},
   "source": [
    "## Es importante que verifiques las dimensiones de las matrices para hacer operaciones"
   ]
  }
 ],
 "metadata": {
  "kernelspec": {
   "display_name": "base",
   "language": "python",
   "name": "python3"
  },
  "language_info": {
   "codemirror_mode": {
    "name": "ipython",
    "version": 3
   },
   "file_extension": ".py",
   "mimetype": "text/x-python",
   "name": "python",
   "nbconvert_exporter": "python",
   "pygments_lexer": "ipython3",
   "version": "3.10.14"
  }
 },
 "nbformat": 4,
 "nbformat_minor": 2
}
